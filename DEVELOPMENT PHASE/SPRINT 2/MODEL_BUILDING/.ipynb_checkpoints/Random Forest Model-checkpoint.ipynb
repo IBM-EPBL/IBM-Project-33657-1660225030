{
 "cells": [
  {
   "cell_type": "markdown",
   "id": "e2eb4a9d",
   "metadata": {
    "id": "e2eb4a9d"
   },
   "source": [
    "# Importing The Libraries"
   ]
  },
  {
   "cell_type": "code",
   "execution_count": 1,
   "id": "b59b2a75",
   "metadata": {
    "id": "b59b2a75"
   },
   "outputs": [],
   "source": [
    "import pandas as pd\n",
    "\n",
    "import numpy as np\n",
    "\n",
    "import pickle\n",
    "\n",
    "import matplotlib.pyplot as plt\n",
    "\n",
    "%matplotlib inline\n",
    "\n",
    "import seaborn as sns\n",
    "\n",
    "import sklearn\n",
    "\n",
    "from sklearn.preprocessing import LabelEncoder\n",
    "\n",
    "from sklearn.tree import DecisionTreeClassifier\n",
    "\n",
    "from sklearn.ensemble import GradientBoostingClassifier, RandomForestClassifier\n",
    "\n",
    "from sklearn.neighbors import KNeighborsClassifier\n",
    "\n",
    "from sklearn.model_selection import RandomizedSearchCV\n",
    "\n",
    "import imblearn\n",
    "\n",
    "from imblearn.under_sampling import RandomUnderSampler\n",
    "\n",
    "from sklearn.preprocessing import scale\n",
    "\n",
    "from sklearn.model_selection import train_test_split\n",
    "\n",
    "from sklearn.preprocessing import StandardScaler\n",
    "\n",
    "from sklearn.metrics import accuracy_score, classification_report, confusion_matrix, f1_score\n",
    "\n",
    "import warnings\n",
    "\n",
    "warnings.filterwarnings('ignore')"
   ]
  },
  {
   "cell_type": "markdown",
   "id": "bb44ef8a",
   "metadata": {
    "id": "bb44ef8a"
   },
   "source": [
    "# Reading The Dataset"
   ]
  },
  {
   "cell_type": "code",
   "execution_count": 2,
   "id": "586985b1",
   "metadata": {
    "id": "586985b1"
   },
   "outputs": [],
   "source": [
    "df=pd.read_csv(\"loan_prediction.csv\")"
   ]
  },
  {
   "cell_type": "code",
   "execution_count": 3,
   "id": "da39ef01",
   "metadata": {
    "colab": {
     "base_uri": "https://localhost:8080/",
     "height": 287
    },
    "id": "da39ef01",
    "outputId": "1b867b5a-e1af-41ca-a52a-a5fb0d5fd1ae"
   },
   "outputs": [
    {
     "data": {
      "text/html": [
       "<div>\n",
       "<style scoped>\n",
       "    .dataframe tbody tr th:only-of-type {\n",
       "        vertical-align: middle;\n",
       "    }\n",
       "\n",
       "    .dataframe tbody tr th {\n",
       "        vertical-align: top;\n",
       "    }\n",
       "\n",
       "    .dataframe thead th {\n",
       "        text-align: right;\n",
       "    }\n",
       "</style>\n",
       "<table border=\"1\" class=\"dataframe\">\n",
       "  <thead>\n",
       "    <tr style=\"text-align: right;\">\n",
       "      <th></th>\n",
       "      <th>Loan_ID</th>\n",
       "      <th>Gender</th>\n",
       "      <th>Married</th>\n",
       "      <th>Dependents</th>\n",
       "      <th>Education</th>\n",
       "      <th>Self_Employed</th>\n",
       "      <th>ApplicantIncome</th>\n",
       "      <th>CoapplicantIncome</th>\n",
       "      <th>LoanAmount</th>\n",
       "      <th>Loan_Amount_Term</th>\n",
       "      <th>Credit_History</th>\n",
       "      <th>Property_Area</th>\n",
       "      <th>Loan_Status</th>\n",
       "    </tr>\n",
       "  </thead>\n",
       "  <tbody>\n",
       "    <tr>\n",
       "      <th>0</th>\n",
       "      <td>LP001002</td>\n",
       "      <td>Male</td>\n",
       "      <td>No</td>\n",
       "      <td>0</td>\n",
       "      <td>Graduate</td>\n",
       "      <td>No</td>\n",
       "      <td>5849</td>\n",
       "      <td>0.0</td>\n",
       "      <td>NaN</td>\n",
       "      <td>360.0</td>\n",
       "      <td>1.0</td>\n",
       "      <td>Urban</td>\n",
       "      <td>Y</td>\n",
       "    </tr>\n",
       "    <tr>\n",
       "      <th>1</th>\n",
       "      <td>LP001003</td>\n",
       "      <td>Male</td>\n",
       "      <td>Yes</td>\n",
       "      <td>1</td>\n",
       "      <td>Graduate</td>\n",
       "      <td>No</td>\n",
       "      <td>4583</td>\n",
       "      <td>1508.0</td>\n",
       "      <td>128.0</td>\n",
       "      <td>360.0</td>\n",
       "      <td>1.0</td>\n",
       "      <td>Rural</td>\n",
       "      <td>N</td>\n",
       "    </tr>\n",
       "    <tr>\n",
       "      <th>2</th>\n",
       "      <td>LP001005</td>\n",
       "      <td>Male</td>\n",
       "      <td>Yes</td>\n",
       "      <td>0</td>\n",
       "      <td>Graduate</td>\n",
       "      <td>Yes</td>\n",
       "      <td>3000</td>\n",
       "      <td>0.0</td>\n",
       "      <td>66.0</td>\n",
       "      <td>360.0</td>\n",
       "      <td>1.0</td>\n",
       "      <td>Urban</td>\n",
       "      <td>Y</td>\n",
       "    </tr>\n",
       "    <tr>\n",
       "      <th>3</th>\n",
       "      <td>LP001006</td>\n",
       "      <td>Male</td>\n",
       "      <td>Yes</td>\n",
       "      <td>0</td>\n",
       "      <td>Not Graduate</td>\n",
       "      <td>No</td>\n",
       "      <td>2583</td>\n",
       "      <td>2358.0</td>\n",
       "      <td>120.0</td>\n",
       "      <td>360.0</td>\n",
       "      <td>1.0</td>\n",
       "      <td>Urban</td>\n",
       "      <td>Y</td>\n",
       "    </tr>\n",
       "    <tr>\n",
       "      <th>4</th>\n",
       "      <td>LP001008</td>\n",
       "      <td>Male</td>\n",
       "      <td>No</td>\n",
       "      <td>0</td>\n",
       "      <td>Graduate</td>\n",
       "      <td>No</td>\n",
       "      <td>6000</td>\n",
       "      <td>0.0</td>\n",
       "      <td>141.0</td>\n",
       "      <td>360.0</td>\n",
       "      <td>1.0</td>\n",
       "      <td>Urban</td>\n",
       "      <td>Y</td>\n",
       "    </tr>\n",
       "  </tbody>\n",
       "</table>\n",
       "</div>"
      ],
      "text/plain": [
       "    Loan_ID Gender Married Dependents     Education Self_Employed  \\\n",
       "0  LP001002   Male      No          0      Graduate            No   \n",
       "1  LP001003   Male     Yes          1      Graduate            No   \n",
       "2  LP001005   Male     Yes          0      Graduate           Yes   \n",
       "3  LP001006   Male     Yes          0  Not Graduate            No   \n",
       "4  LP001008   Male      No          0      Graduate            No   \n",
       "\n",
       "   ApplicantIncome  CoapplicantIncome  LoanAmount  Loan_Amount_Term  \\\n",
       "0             5849                0.0         NaN             360.0   \n",
       "1             4583             1508.0       128.0             360.0   \n",
       "2             3000                0.0        66.0             360.0   \n",
       "3             2583             2358.0       120.0             360.0   \n",
       "4             6000                0.0       141.0             360.0   \n",
       "\n",
       "   Credit_History Property_Area Loan_Status  \n",
       "0             1.0         Urban           Y  \n",
       "1             1.0         Rural           N  \n",
       "2             1.0         Urban           Y  \n",
       "3             1.0         Urban           Y  \n",
       "4             1.0         Urban           Y  "
      ]
     },
     "execution_count": 3,
     "metadata": {},
     "output_type": "execute_result"
    }
   ],
   "source": [
    "df.head()"
   ]
  },
  {
   "cell_type": "code",
   "execution_count": 4,
   "id": "0bee2c47",
   "metadata": {
    "colab": {
     "base_uri": "https://localhost:8080/"
    },
    "id": "0bee2c47",
    "outputId": "0d9b696c-0f44-4b53-d599-665a41ffb7ec"
   },
   "outputs": [
    {
     "name": "stdout",
     "output_type": "stream",
     "text": [
      "<class 'pandas.core.frame.DataFrame'>\n",
      "RangeIndex: 614 entries, 0 to 613\n",
      "Data columns (total 13 columns):\n",
      " #   Column             Non-Null Count  Dtype  \n",
      "---  ------             --------------  -----  \n",
      " 0   Loan_ID            614 non-null    object \n",
      " 1   Gender             601 non-null    object \n",
      " 2   Married            611 non-null    object \n",
      " 3   Dependents         599 non-null    object \n",
      " 4   Education          614 non-null    object \n",
      " 5   Self_Employed      582 non-null    object \n",
      " 6   ApplicantIncome    614 non-null    int64  \n",
      " 7   CoapplicantIncome  614 non-null    float64\n",
      " 8   LoanAmount         592 non-null    float64\n",
      " 9   Loan_Amount_Term   600 non-null    float64\n",
      " 10  Credit_History     564 non-null    float64\n",
      " 11  Property_Area      614 non-null    object \n",
      " 12  Loan_Status        614 non-null    object \n",
      "dtypes: float64(4), int64(1), object(8)\n",
      "memory usage: 62.5+ KB\n"
     ]
    }
   ],
   "source": [
    "df.info()"
   ]
  },
  {
   "cell_type": "code",
   "execution_count": 5,
   "id": "8011853c",
   "metadata": {
    "colab": {
     "base_uri": "https://localhost:8080/"
    },
    "id": "8011853c",
    "outputId": "4dda211b-c392-4919-d995-224ccb4cfd15"
   },
   "outputs": [
    {
     "data": {
      "text/plain": [
       "(614, 13)"
      ]
     },
     "execution_count": 5,
     "metadata": {},
     "output_type": "execute_result"
    }
   ],
   "source": [
    "df.shape"
   ]
  },
  {
   "cell_type": "code",
   "execution_count": 6,
   "id": "d1fa4797",
   "metadata": {
    "id": "d1fa4797"
   },
   "outputs": [],
   "source": [
    "df=df.drop(columns=[\"Loan_ID\"],axis=1)"
   ]
  },
  {
   "cell_type": "markdown",
   "id": "726f02e5",
   "metadata": {
    "id": "726f02e5"
   },
   "source": [
    "# Uni-Variate Analysis"
   ]
  },
  {
   "cell_type": "code",
   "execution_count": 7,
   "id": "c0c1d811",
   "metadata": {
    "colab": {
     "base_uri": "https://localhost:8080/",
     "height": 678
    },
    "id": "c0c1d811",
    "outputId": "0fada020-75b8-4845-9ee2-9c21e32d6f5f"
   },
   "outputs": [
    {
     "data": {
      "image/png": "[encoded data removed]",
      "text/plain": [
       "<Figure size 1080x720 with 5 Axes>"
      ]
     },
     "metadata": {
      "needs_background": "light"
     },
     "output_type": "display_data"
    }
   ],
   "source": [
    "plt.figure(figsize=(15,10))\n",
    "plt.subplot(2,3,1)\n",
    "sns.distplot(df[\"ApplicantIncome\"])\n",
    "plt.subplot(2,3,2)\n",
    "sns.distplot(df[\"Credit_History\"])\n",
    "plt.subplot(2,3,3)\n",
    "sns.distplot(df[\"LoanAmount\"])\n",
    "plt.subplot(2,3,4)\n",
    "sns.distplot(df[\"Loan_Amount_Term\"])\n",
    "plt.subplot(2,3,5)\n",
    "sns.distplot(df[\"CoapplicantIncome\"])\n",
    "plt.suptitle(\"NUMERICAL VALUE-DIST PLOT\")\n",
    "plt.show()"
   ]
  },
  {
   "cell_type": "code",
   "execution_count": null,
   "id": "099ef953",
   "metadata": {
    "colab": {
     "base_uri": "https://localhost:8080/",
     "height": 677
    },
    "id": "099ef953",
    "outputId": "607aca1d-4024-4780-9d25-87298ae65d7f"
   },
   "outputs": [],
   "source": [
    "plt.figure(figsize=(15,10))\n",
    "plt.subplot(3,3,1)\n",
    "sns.countplot(df[\"Gender\"])\n",
    "plt.subplot(3,3,2)\n",
    "sns.countplot(df[\"Married\"])\n",
    "plt.subplot(3,3,3)\n",
    "sns.countplot(df[\"Education\"])\n",
    "plt.subplot(3,3,4)\n",
    "sns.countplot(df[\"Self_Employed\"])\n",
    "plt.subplot(3,3,5)\n",
    "sns.countplot(df[\"Property_Area\"])\n",
    "plt.subplot(3,3,6)\n",
    "sns.countplot(df[\"Loan_Status\"])\n",
    "plt.subplot(3,3,7)\n",
    "sns.countplot(df[\"Dependents\"])\n",
    "plt.suptitle(\"CATEGORICAL VALUE-COUNT PLOT\")\n",
    "plt.show()"
   ]
  },
  {
   "cell_type": "markdown",
   "id": "79142658",
   "metadata": {
    "id": "79142658"
   },
   "source": [
    "# Bivariate Analysis"
   ]
  },
  {
   "cell_type": "code",
   "execution_count": null,
   "id": "dc0c4526",
   "metadata": {
    "colab": {
     "base_uri": "https://localhost:8080/",
     "height": 606
    },
    "id": "dc0c4526",
    "outputId": "10f85ca3-c8e9-4b0d-fb1f-fa00ff6a6dd3"
   },
   "outputs": [],
   "source": [
    "plt.figure(figsize=(15,10))\n",
    "plt.subplot(3,3,1)\n",
    "sns.countplot(df[\"Gender\"],hue=df[\"Loan_Status\"])\n",
    "plt.subplot(3,3,2)\n",
    "sns.countplot(df[\"Education\"],hue=df[\"Loan_Status\"])\n",
    "plt.subplot(3,3,3)\n",
    "sns.countplot(df[\"Property_Area\"],hue=df[\"Loan_Status\"])\n",
    "plt.subplot(3,3,4)\n",
    "sns.countplot(df[\"Married\"],hue=df[\"Loan_Status\"])\n",
    "plt.subplot(3,3,5)\n",
    "sns.countplot(df[\"Self_Employed\"],hue=df[\"Loan_Status\"])\n",
    "plt.subplot(3,3,6)\n",
    "sns.countplot(df[\"Loan_Amount_Term\"],hue=df[\"Loan_Status\"])\n",
    "plt.subplot(3,3,7)\n",
    "sns.countplot(df[\"Dependents\"],hue=df[\"Loan_Status\"])\n",
    "plt.show()"
   ]
  },
  {
   "cell_type": "code",
   "execution_count": null,
   "id": "8ef1b692",
   "metadata": {
    "colab": {
     "base_uri": "https://localhost:8080/",
     "height": 676
    },
    "id": "8ef1b692",
    "outputId": "106e0700-89c9-4582-e100-1ec3d9e6910e"
   },
   "outputs": [],
   "source": [
    "plt.figure(figsize=(20,20))\n",
    "plt.subplot(3,3,1)\n",
    "sns.swarmplot(df['Gender'],df['Education'],hue=df['Loan_Status'])\n",
    "plt.subplot(3,3,2)\n",
    "sns.swarmplot(df['Self_Employed'],df['LoanAmount'],hue=df['Loan_Status'])\n",
    "plt.subplot(3,3,3)\n",
    "sns.swarmplot(df['Gender'],df['ApplicantIncome'],hue=df['Loan_Status'])\n",
    "plt.subplot(3,3,4)\n",
    "sns.swarmplot(df['Married'],df['Loan_Amount_Term'],hue=df['Loan_Status'])\n",
    "plt.subplot(3,3,5)\n",
    "sns.swarmplot(df['Gender'],df['CoapplicantIncome'],hue=df['Loan_Status'])\n",
    "plt.subplot(3,3,6)\n",
    "sns.swarmplot(df['Married'],df['Property_Area'],hue=df['Loan_Status'])\n",
    "plt.show()"
   ]
  },
  {
   "cell_type": "markdown",
   "id": "beba7e31",
   "metadata": {
    "id": "beba7e31"
   },
   "source": [
    "# Multivariate Analysis"
   ]
  },
  {
   "cell_type": "code",
   "execution_count": null,
   "id": "oWwH9UA0_39v",
   "metadata": {
    "colab": {
     "base_uri": "https://localhost:8080/",
     "height": 279
    },
    "id": "oWwH9UA0_39v",
    "outputId": "77fb5e29-35b9-45bc-d99d-5be0c0b043f2"
   },
   "outputs": [],
   "source": [
    "#Visualizations Dependents vs LoanAmount vs Gender\n",
    "sns.barplot(df.Dependents,df.LoanAmount, hue_order=df.Gender ,palette=\"rocket\")\n",
    "plt.show()"
   ]
  },
  {
   "cell_type": "code",
   "execution_count": null,
   "id": "F_MCILC-_32O",
   "metadata": {
    "colab": {
     "base_uri": "https://localhost:8080/",
     "height": 280
    },
    "id": "F_MCILC-_32O",
    "outputId": "6bd1a75e-29cb-4830-c569-4cffd026021c"
   },
   "outputs": [],
   "source": [
    "#Visualizations Loan_Status vs Loan_Amount_Term vs Gender\n",
    "sns.barplot(df.Loan_Status,df.Loan_Amount_Term,hue=df.Gender, palette=\"pastel\")\n",
    "plt.show()"
   ]
  },
  {
   "cell_type": "code",
   "execution_count": null,
   "id": "c2FrbUQk_3xp",
   "metadata": {
    "colab": {
     "base_uri": "https://localhost:8080/",
     "height": 280
    },
    "id": "c2FrbUQk_3xp",
    "outputId": "e1f6877b-ee16-4231-bd97-5977f14fef51"
   },
   "outputs": [],
   "source": [
    "# Credit_History vs ApplicantIncome and Gender\n",
    "sns.barplot(df['Credit_History'], df['ApplicantIncome'], hue = df['Gender'], palette = 'pastel')\n",
    "plt.show()"
   ]
  },
  {
   "cell_type": "code",
   "execution_count": null,
   "id": "666a287f",
   "metadata": {
    "colab": {
     "base_uri": "https://localhost:8080/",
     "height": 705
    },
    "id": "666a287f",
    "outputId": "7d106286-36d7-4b7f-ddbd-87fe4f2a2bab"
   },
   "outputs": [],
   "source": [
    "cor=df.corr()\n",
    "plt.figure(figsize=(20,12))\n",
    "sns.heatmap(cor,annot=True,cmap='coolwarm')\n",
    "plt.show()"
   ]
  },
  {
   "cell_type": "markdown",
   "id": "aa1d1be0",
   "metadata": {
    "id": "aa1d1be0"
   },
   "source": [
    "# Descriptive Analysis"
   ]
  },
  {
   "cell_type": "code",
   "execution_count": null,
   "id": "3865517d",
   "metadata": {
    "colab": {
     "base_uri": "https://localhost:8080/",
     "height": 300
    },
    "id": "3865517d",
    "outputId": "98c97f23-f896-4889-b399-dd80f2c30392"
   },
   "outputs": [],
   "source": [
    "df.describe()"
   ]
  },
  {
   "cell_type": "markdown",
   "id": "a77d15fb",
   "metadata": {
    "id": "a77d15fb"
   },
   "source": [
    "# Data Pre-Processing"
   ]
  },
  {
   "cell_type": "markdown",
   "id": "146de81c",
   "metadata": {
    "id": "146de81c"
   },
   "source": [
    "## Checking For Null Values"
   ]
  },
  {
   "cell_type": "code",
   "execution_count": null,
   "id": "20f72c7c",
   "metadata": {
    "colab": {
     "base_uri": "https://localhost:8080/"
    },
    "id": "20f72c7c",
    "outputId": "2ac21736-8c97-4780-9806-fe028d0c3324"
   },
   "outputs": [],
   "source": [
    "df.isnull().sum()"
   ]
  },
  {
   "cell_type": "code",
   "execution_count": null,
   "id": "a099bb01",
   "metadata": {
    "id": "a099bb01"
   },
   "outputs": [],
   "source": [
    "df['LoanAmount']=df['LoanAmount'].fillna(df['LoanAmount'].mean())\n",
    "df['Loan_Amount_Term']=df['Loan_Amount_Term'].fillna(df['Loan_Amount_Term'].mean())\n",
    "df['Credit_History']=df['Credit_History'].fillna(df['Credit_History'].mean())"
   ]
  },
  {
   "cell_type": "code",
   "execution_count": null,
   "id": "650c6154",
   "metadata": {
    "id": "650c6154"
   },
   "outputs": [],
   "source": [
    "df['Gender']=df['Gender'].fillna(df['Gender'].mode()[0])\n",
    "df['Married']=df['Married'].fillna(df['Married'].mode()[0])\n",
    "df['Dependents']=df['Dependents'].fillna(df['Dependents'].mode()[0])\n",
    "df['Self_Employed']=df['Self_Employed'].fillna(df['Self_Employed'].mode()[0])"
   ]
  },
  {
   "cell_type": "code",
   "execution_count": null,
   "id": "8a3ec848",
   "metadata": {
    "colab": {
     "base_uri": "https://localhost:8080/"
    },
    "id": "8a3ec848",
    "outputId": "762b3119-37cc-4c41-9294-2b9ecea03884"
   },
   "outputs": [],
   "source": [
    "df.isnull().sum()"
   ]
  },
  {
   "cell_type": "markdown",
   "id": "c813a6d4",
   "metadata": {
    "id": "c813a6d4"
   },
   "source": [
    "# Handling Categorical Values"
   ]
  },
  {
   "cell_type": "code",
   "execution_count": null,
   "id": "6b2f8fe0",
   "metadata": {
    "colab": {
     "base_uri": "https://localhost:8080/",
     "height": 287
    },
    "id": "6b2f8fe0",
    "outputId": "27ce2ccc-949c-4bfc-afd5-6faeb88dc083"
   },
   "outputs": [],
   "source": [
    "df.head()"
   ]
  },
  {
   "cell_type": "code",
   "execution_count": null,
   "id": "6edb2e8b",
   "metadata": {
    "id": "6edb2e8b"
   },
   "outputs": [],
   "source": [
    "le=LabelEncoder()"
   ]
  },
  {
   "cell_type": "code",
   "execution_count": null,
   "id": "ee880eb0",
   "metadata": {
    "id": "ee880eb0"
   },
   "outputs": [],
   "source": [
    "df.Gender=le.fit_transform(df.Gender)\n",
    "df.Married=le.fit_transform(df.Married)\n",
    "df.Education=le.fit_transform(df.Education)\n",
    "df.Self_Employed=le.fit_transform(df.Self_Employed)\n",
    "df.Property_Area=le.fit_transform(df.Property_Area)\n",
    "df.Loan_Status=le.fit_transform(df.Loan_Status)\n",
    "df.Dependents=le.fit_transform(df.Dependents)"
   ]
  },
  {
   "cell_type": "code",
   "execution_count": null,
   "id": "10ca610e",
   "metadata": {
    "colab": {
     "base_uri": "https://localhost:8080/",
     "height": 270
    },
    "id": "10ca610e",
    "outputId": "cc076a01-1abb-4813-8692-4f02945ec00a"
   },
   "outputs": [],
   "source": [
    "df.head()"
   ]
  },
  {
   "cell_type": "markdown",
   "id": "ddc2f98a",
   "metadata": {
    "id": "ddc2f98a"
   },
   "source": [
    "# Spliting into dependent and independent data"
   ]
  },
  {
   "cell_type": "code",
   "execution_count": null,
   "id": "3c8b1db4",
   "metadata": {
    "colab": {
     "base_uri": "https://localhost:8080/",
     "height": 270
    },
    "id": "3c8b1db4",
    "outputId": "571cfebb-e560-4073-a1e0-85e0f6d6a69e"
   },
   "outputs": [],
   "source": [
    "df.head()"
   ]
  },
  {
   "cell_type": "code",
   "execution_count": null,
   "id": "012b4f6c",
   "metadata": {
    "id": "012b4f6c"
   },
   "outputs": [],
   "source": [
    "x=df.iloc[:,:-1]\n",
    "y=df.Loan_Status"
   ]
  },
  {
   "cell_type": "code",
   "execution_count": null,
   "id": "24beba04",
   "metadata": {
    "colab": {
     "base_uri": "https://localhost:8080/",
     "height": 270
    },
    "id": "24beba04",
    "outputId": "854abfb4-06b5-45c6-f66c-fd7fbde1da8d"
   },
   "outputs": [],
   "source": [
    "x.head()"
   ]
  },
  {
   "cell_type": "code",
   "execution_count": null,
   "id": "8cf7815b",
   "metadata": {
    "colab": {
     "base_uri": "https://localhost:8080/"
    },
    "id": "8cf7815b",
    "outputId": "35398170-66f5-4e4c-a8f7-98a02e13eb22"
   },
   "outputs": [],
   "source": [
    "y.head()"
   ]
  },
  {
   "cell_type": "markdown",
   "id": "4fb0c842",
   "metadata": {
    "id": "4fb0c842"
   },
   "source": [
    "# Scaling The Data"
   ]
  },
  {
   "cell_type": "code",
   "execution_count": null,
   "id": "5ccc9524",
   "metadata": {
    "colab": {
     "base_uri": "https://localhost:8080/",
     "height": 270
    },
    "id": "5ccc9524",
    "outputId": "49c524d7-eaf0-4d1b-ba32-e4940f942f73"
   },
   "outputs": [],
   "source": [
    "x_scale=pd.DataFrame(scale(x),columns=x.columns)\n",
    "x_scale.head()"
   ]
  },
  {
   "cell_type": "markdown",
   "id": "f6293951",
   "metadata": {
    "id": "f6293951"
   },
   "source": [
    "# Balancing The Dataset"
   ]
  },
  {
   "cell_type": "code",
   "execution_count": null,
   "id": "c519d94e",
   "metadata": {
    "colab": {
     "base_uri": "https://localhost:8080/",
     "height": 264
    },
    "id": "c519d94e",
    "outputId": "18878327-1bd0-4f8c-fbbc-95342c6c90f8"
   },
   "outputs": [],
   "source": [
    "rus=RandomUnderSampler(sampling_strategy=1)\n",
    "x_res,y_res=rus.fit_resample(x,y)\n",
    "ax=y_res.value_counts().plot.pie(autopct='%.2f')\n",
    "_=ax.set_title(\"under-sampling\")"
   ]
  },
  {
   "cell_type": "markdown",
   "id": "8257d2dd",
   "metadata": {
    "id": "8257d2dd"
   },
   "source": [
    "# Splitting Data Into Train and Test"
   ]
  },
  {
   "cell_type": "code",
   "execution_count": null,
   "id": "c6886581",
   "metadata": {
    "id": "c6886581"
   },
   "outputs": [],
   "source": [
    "xtrain,xtest,ytrain,ytest=train_test_split(x,y,test_size=0.3,random_state=10)"
   ]
  },
  {
   "cell_type": "code",
   "execution_count": null,
   "id": "df473af6",
   "metadata": {
    "colab": {
     "base_uri": "https://localhost:8080/",
     "height": 270
    },
    "id": "df473af6",
    "outputId": "fe3dccc9-fb1e-4236-d31b-4e0b8c704cc6"
   },
   "outputs": [],
   "source": [
    "xtrain.head()"
   ]
  },
  {
   "cell_type": "code",
   "execution_count": null,
   "id": "6515ff1e",
   "metadata": {
    "colab": {
     "base_uri": "https://localhost:8080/",
     "height": 270
    },
    "id": "6515ff1e",
    "outputId": "bdbd9b12-9a59-4980-e00f-726d05cc2648"
   },
   "outputs": [],
   "source": [
    "xtest.head()"
   ]
  },
  {
   "cell_type": "code",
   "execution_count": null,
   "id": "dbb3500b",
   "metadata": {
    "colab": {
     "base_uri": "https://localhost:8080/"
    },
    "id": "dbb3500b",
    "outputId": "c9db5e90-e786-42e2-c8c7-86428d3447b8"
   },
   "outputs": [],
   "source": [
    "ytrain.head()"
   ]
  },
  {
   "cell_type": "code",
   "execution_count": null,
   "id": "c9f0118c",
   "metadata": {
    "colab": {
     "base_uri": "https://localhost:8080/"
    },
    "id": "c9f0118c",
    "outputId": "76a5207a-fba2-464d-a54e-3cb4086fdaf9"
   },
   "outputs": [],
   "source": [
    "ytest.head()"
   ]
  },
  {
   "cell_type": "markdown",
   "id": "9bc9e660",
   "metadata": {
    "id": "9bc9e660"
   },
   "source": [
    "# Model Building"
   ]
  },
  {
   "cell_type": "markdown",
   "id": "6b7952f2",
   "metadata": {
    "id": "6b7952f2"
   },
   "source": [
    "# Random Forest Model"
   ]
  },
  {
   "cell_type": "code",
   "execution_count": null,
   "id": "72a86154",
   "metadata": {
    "id": "72a86154"
   },
   "outputs": [],
   "source": [
    "Rmodel=RandomForestClassifier(n_estimators=100)"
   ]
  },
  {
   "cell_type": "code",
   "execution_count": null,
   "id": "06d700e1",
   "metadata": {
    "colab": {
     "base_uri": "https://localhost:8080/"
    },
    "id": "06d700e1",
    "outputId": "acaf89ad-5d43-4bff-ce44-e1405d61834b"
   },
   "outputs": [],
   "source": [
    "Rmodel.fit(x_res,y_res)"
   ]
  },
  {
   "cell_type": "code",
   "execution_count": null,
   "id": "2e52efdb",
   "metadata": {
    "id": "2e52efdb"
   },
   "outputs": [],
   "source": [
    "ypredR=Rmodel.predict(xtest)"
   ]
  },
  {
   "cell_type": "code",
   "execution_count": null,
   "id": "80bf2b20",
   "metadata": {
    "id": "80bf2b20"
   },
   "outputs": [],
   "source": [
    "ypred2R=Rmodel.predict(xtrain)"
   ]
  },
  {
   "cell_type": "code",
   "execution_count": null,
   "id": "0d3ba975",
   "metadata": {},
   "outputs": [],
   "source": [
    "print(\"Random Forest Model Testing Accuracy\")\n",
    "print(accuracy_score(ytest,ypredR))\n",
    "print(\"Random Forest Model Training Accuracy\")\n",
    "print(accuracy_score(ytrain,ypred2R))"
   ]
  }
 ],
 "metadata": {
  "colab": {
   "collapsed_sections": [],
   "provenance": []
  },
  "kernelspec": {
   "display_name": "Python 3 (ipykernel)",
   "language": "python",
   "name": "python3"
  },
  "language_info": {
   "codemirror_mode": {
    "name": "ipython",
    "version": 3
   },
   "file_extension": ".py",
   "mimetype": "text/x-python",
   "name": "python",
   "nbconvert_exporter": "python",
   "pygments_lexer": "ipython3",
   "version": "3.9.12"
  }
 },
 "nbformat": 4,
 "nbformat_minor": 5
}
